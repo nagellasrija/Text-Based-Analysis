{
 "cells": [
  {
   "cell_type": "code",
   "execution_count": 13,
   "id": "c0c2c7da",
   "metadata": {},
   "outputs": [
    {
     "name": "stdout",
     "output_type": "stream",
     "text": [
      "Hello\n"
     ]
    }
   ],
   "source": [
    "a = \"Hello\" # Assigning the string \"Hello\" to the variable 'a'\n",
    "print(a) # Printing the value of the variable 'a'"
   ]
  },
  {
   "cell_type": "code",
   "execution_count": 14,
   "id": "a464b63b",
   "metadata": {},
   "outputs": [
    {
     "name": "stdout",
     "output_type": "stream",
     "text": [
      "e\n",
      "llo\n"
     ]
    }
   ],
   "source": [
    "a = \"Hello, World!\" #Assigning the string \"Hello, World!\" to the variable 'a'\n",
    "print(a[1]) #Printing the character at index 1 in the string 'a' (e) \n",
    "b = \"Hello, World!\" # Assigning the string \"Hello, World!\" to the variable 'b'\n",
    "print(b[2:5]) # Printing the substring of 'b' from index 2 to 4 (5 is exclusive) (llo)"
   ]
  },
  {
   "cell_type": "code",
   "execution_count": 3,
   "id": "7e1fd507",
   "metadata": {},
   "outputs": [
    {
     "name": "stdout",
     "output_type": "stream",
     "text": [
      "13\n"
     ]
    }
   ],
   "source": [
    "a = \"Hello, World!\" #Assigning the string \"Hello, World!\" to the variable 'a'\n",
    "print(len(a)) #Printing the length of variable 'a'"
   ]
  },
  {
   "cell_type": "code",
   "execution_count": 4,
   "id": "f774d410",
   "metadata": {},
   "outputs": [
    {
     "name": "stdout",
     "output_type": "stream",
     "text": [
      "HELLO, WORLD!\n"
     ]
    }
   ],
   "source": [
    "print(a.upper())  #Printing the uppercase version of the string 'a'"
   ]
  },
  {
   "cell_type": "code",
   "execution_count": 5,
   "id": "8a440f8b",
   "metadata": {},
   "outputs": [
    {
     "name": "stdout",
     "output_type": "stream",
     "text": [
      "hello, world!\n"
     ]
    }
   ],
   "source": [
    "print(a.lower()) #Printing the lowercase version of the string 'a'"
   ]
  },
  {
   "cell_type": "code",
   "execution_count": 6,
   "id": "03f90e5c",
   "metadata": {},
   "outputs": [
    {
     "name": "stdout",
     "output_type": "stream",
     "text": [
      "Jello, World!\n"
     ]
    }
   ],
   "source": [
    "print(a.replace(\"H\", \"J\"))  # Printing the string 'a' with the replacement of \"H\" by \"J\""
   ]
  },
  {
   "cell_type": "code",
   "execution_count": 15,
   "id": "8272bee1",
   "metadata": {},
   "outputs": [
    {
     "name": "stdout",
     "output_type": "stream",
     "text": [
      "Hello World\n"
     ]
    }
   ],
   "source": [
    "a = \"Hello\" # Assigning the string \"Hello\" to the variable 'a'\n",
    "b = \"World\" # Assigning the string \"World\" to the variable 'b'\n",
    "c = a + \" \" + b  #Concatenating the strings 'a', a space, and 'b' and assigning it to the variable 'c'\n",
    "print(c)  #Printing the concatenated string 'c' (Hello Worl"
   ]
  },
  {
   "cell_type": "code",
   "execution_count": 9,
   "id": "4e50aff3",
   "metadata": {},
   "outputs": [
    {
     "data": {
      "text/plain": [
       "['One', 'two', 'three', 'four']"
      ]
     },
     "execution_count": 9,
     "metadata": {},
     "output_type": "execute_result"
    }
   ],
   "source": [
    "my_string = 'One two three four'\n",
    "word_list = my_string.split()\n",
    "word_list"
   ]
  },
  {
   "cell_type": "code",
   "execution_count": 16,
   "id": "b748963c",
   "metadata": {},
   "outputs": [
    {
     "data": {
      "text/plain": [
       "['1', '2', '3', '4', '5']"
      ]
     },
     "execution_count": 16,
     "metadata": {},
     "output_type": "execute_result"
    }
   ],
   "source": [
    "my_string = '1/2/3/4/5' # Assigning the string 'One two three four' to the variable 'my_string'\n",
    "number_list = my_string.split('/') # Splitting the string into a list of words using the default space delimiter\n",
    "number_list #Displaying the resulting list"
   ]
  },
  {
   "cell_type": "code",
   "execution_count": 17,
   "id": "34eb193f",
   "metadata": {},
   "outputs": [
    {
     "data": {
      "text/plain": [
       "['peach', 'raspberry', 'strawberry', 'vanilla']"
      ]
     },
     "execution_count": 17,
     "metadata": {},
     "output_type": "execute_result"
    }
   ],
   "source": [
    "str = 'peach raspberry strawberry vanilla' # Assigning the string 'peach raspberry strawberry vanilla' to the variable 'str'\n",
    "tokens = str.split() # Splitting the string into a list of words using the default space \n",
    "tokens # Displaying the resulting list"
   ]
  },
  {
   "cell_type": "code",
   "execution_count": 18,
   "id": "db81a182",
   "metadata": {},
   "outputs": [
    {
     "data": {
      "text/plain": [
       "['www', 'example', 'com']"
      ]
     },
     "execution_count": 18,
     "metadata": {},
     "output_type": "execute_result"
    }
   ],
   "source": [
    "my_address = 'www.example.com' # Assigning the string 'www.example.com' to the variable 'my_address'\n",
    "tokens = my_address.split('.') # Splitting the string into a list using the dot (.) as the delimiter\n",
    "tokens # Displaying the resulting list"
   ]
  },
  {
   "cell_type": "code",
   "execution_count": null,
   "id": "d0795bba",
   "metadata": {},
   "outputs": [],
   "source": []
  }
 ],
 "metadata": {
  "kernelspec": {
   "display_name": "Python 3 (ipykernel)",
   "language": "python",
   "name": "python3"
  },
  "language_info": {
   "codemirror_mode": {
    "name": "ipython",
    "version": 3
   },
   "file_extension": ".py",
   "mimetype": "text/x-python",
   "name": "python",
   "nbconvert_exporter": "python",
   "pygments_lexer": "ipython3",
   "version": "3.11.5"
  }
 },
 "nbformat": 4,
 "nbformat_minor": 5
}

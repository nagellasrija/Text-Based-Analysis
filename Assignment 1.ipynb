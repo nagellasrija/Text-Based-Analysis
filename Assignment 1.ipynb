{
 "cells": [
  {
   "cell_type": "markdown",
   "id": "5b07b826",
   "metadata": {},
   "source": [
    "# Counting Occurrences"
   ]
  },
  {
   "cell_type": "code",
   "execution_count": 2,
   "id": "29c23271",
   "metadata": {},
   "outputs": [
    {
     "name": "stdout",
     "output_type": "stream",
     "text": [
      "3\n"
     ]
    }
   ],
   "source": [
    "a = \"Hello, World!\"\n",
    "print(a.count(\"l\"))  # Counts the occurrences of the letter 'l' in 'a'"
   ]
  },
  {
   "cell_type": "markdown",
   "id": "b23be499",
   "metadata": {},
   "source": [
    "# Joining Strings in a List"
   ]
  },
  {
   "cell_type": "code",
   "execution_count": 7,
   "id": "3b2c05ce",
   "metadata": {},
   "outputs": [
    {
     "name": "stdout",
     "output_type": "stream",
     "text": [
      "Hello, World, Python\n"
     ]
    }
   ],
   "source": [
    "words = ['Hello', 'World', 'Python']\n",
    "joined_string = ', '.join(words)  # Joins the list of words with ', ' as separator\n",
    "print(joined_string)"
   ]
  },
  {
   "cell_type": "code",
   "execution_count": null,
   "id": "fe46d98e",
   "metadata": {},
   "outputs": [],
   "source": [
    "# Accessing Characters by Index"
   ]
  },
  {
   "cell_type": "code",
   "execution_count": 36,
   "id": "84929223",
   "metadata": {},
   "outputs": [
    {
     "name": "stdout",
     "output_type": "stream",
     "text": [
      "H\n",
      "o\n"
     ]
    }
   ],
   "source": [
    "a = \"Hello, World!\"\n",
    "print(a[0])  # Accesses the first character of the string 'a'\n",
    "print(a[4])  # Accesses the fourth character of the string 'a'"
   ]
  },
  {
   "cell_type": "markdown",
   "id": "7da0cb38",
   "metadata": {},
   "source": [
    "# Slicing Strings"
   ]
  },
  {
   "cell_type": "code",
   "execution_count": 11,
   "id": "fa234d83",
   "metadata": {},
   "outputs": [
    {
     "name": "stdout",
     "output_type": "stream",
     "text": [
      "World!\n"
     ]
    }
   ],
   "source": [
    "a = \"Hello, World!\"\n",
    "print(a[7:])  # Slices the string from index 7 to the end"
   ]
  },
  {
   "cell_type": "markdown",
   "id": "6c64f2d0",
   "metadata": {},
   "source": [
    "# Checking Substring Membership"
   ]
  },
  {
   "cell_type": "code",
   "execution_count": 37,
   "id": "a3628471",
   "metadata": {},
   "outputs": [
    {
     "name": "stdout",
     "output_type": "stream",
     "text": [
      "True\n"
     ]
    }
   ],
   "source": [
    "a = \"Hello, Srija!\"\n",
    "print(\"Srija\" in a)  # Checks if the substring \"World\" is present in 'a'\n"
   ]
  },
  {
   "cell_type": "markdown",
   "id": "76827e63",
   "metadata": {},
   "source": [
    "# Reversing a String"
   ]
  },
  {
   "cell_type": "code",
   "execution_count": 38,
   "id": "6a3ea14c",
   "metadata": {},
   "outputs": [
    {
     "name": "stdout",
     "output_type": "stream",
     "text": [
      "!ajirS ,olleH\n"
     ]
    }
   ],
   "source": [
    "a = \"Hello, Srija!\"\n",
    "reversed_string = a[::-1]  # Reverses the string\n",
    "print(reversed_string)"
   ]
  },
  {
   "cell_type": "markdown",
   "id": "7f0f4814",
   "metadata": {},
   "source": [
    "# Stripping Whitespace"
   ]
  },
  {
   "cell_type": "code",
   "execution_count": 14,
   "id": "d572efdf",
   "metadata": {},
   "outputs": [
    {
     "name": "stdout",
     "output_type": "stream",
     "text": [
      "Hello, World!\n"
     ]
    }
   ],
   "source": [
    "a = \"   Hello, World!   \"\n",
    "stripped_string = a.strip()  # Removes leading and trailing whitespace\n",
    "print(stripped_string)"
   ]
  },
  {
   "cell_type": "markdown",
   "id": "e54a3b90",
   "metadata": {},
   "source": [
    "# Checking String Equality"
   ]
  },
  {
   "cell_type": "code",
   "execution_count": 16,
   "id": "45852052",
   "metadata": {},
   "outputs": [
    {
     "name": "stdout",
     "output_type": "stream",
     "text": [
      "False\n"
     ]
    }
   ],
   "source": [
    "a = \"Hello\"\n",
    "b = \"hello\"\n",
    "print(a == b)  # Checks if strings 'a' and 'b' are equal"
   ]
  },
  {
   "cell_type": "markdown",
   "id": "d0404a54",
   "metadata": {},
   "source": [
    "# Swapping Case"
   ]
  },
  {
   "cell_type": "code",
   "execution_count": 18,
   "id": "256236fe",
   "metadata": {},
   "outputs": [
    {
     "name": "stdout",
     "output_type": "stream",
     "text": [
      "hELLO, wORLD!\n"
     ]
    }
   ],
   "source": [
    "s = \"Hello, World!\"\n",
    "print(s.swapcase())  # Swaps the case of all characters in 's'"
   ]
  },
  {
   "cell_type": "markdown",
   "id": "7b769ad9",
   "metadata": {},
   "source": [
    "# Finding the Index of a Substring"
   ]
  },
  {
   "cell_type": "code",
   "execution_count": 40,
   "id": "fbf5a77a",
   "metadata": {},
   "outputs": [
    {
     "name": "stdout",
     "output_type": "stream",
     "text": [
      "7\n"
     ]
    }
   ],
   "source": [
    "s = \"Hello, Srija!\"\n",
    "print(s.index(\"Srija\"))  # Finds the starting index of the substring \"World\" in 's'"
   ]
  },
  {
   "cell_type": "markdown",
   "id": "3f900bf5",
   "metadata": {},
   "source": [
    "# Capitalizing the First Character"
   ]
  },
  {
   "cell_type": "code",
   "execution_count": 26,
   "id": "6d9a1ffe",
   "metadata": {},
   "outputs": [
    {
     "name": "stdout",
     "output_type": "stream",
     "text": [
      "Hello srija!\n"
     ]
    }
   ],
   "source": [
    "s = \"hello srija!\"\n",
    "print(s.capitalize())  # Capitalizes the first character of 's'\n"
   ]
  },
  {
   "cell_type": "markdown",
   "id": "42da0861",
   "metadata": {},
   "source": [
    "# Repeating a String"
   ]
  },
  {
   "cell_type": "code",
   "execution_count": 24,
   "id": "cd25ccc0",
   "metadata": {},
   "outputs": [
    {
     "name": "stdout",
     "output_type": "stream",
     "text": [
      "srijasrijasrija\n"
     ]
    }
   ],
   "source": [
    "s = \"srija\"\n",
    "print(s * 3)  # Repeats the string 's' three times"
   ]
  },
  {
   "cell_type": "markdown",
   "id": "89e24393",
   "metadata": {},
   "source": [
    "# Joining Strings in a List"
   ]
  },
  {
   "cell_type": "code",
   "execution_count": 23,
   "id": "442d36be",
   "metadata": {},
   "outputs": [
    {
     "name": "stdout",
     "output_type": "stream",
     "text": [
      "Hello Srija Nagella\n"
     ]
    }
   ],
   "source": [
    "words = [\"Hello\", \"Srija\", \"Nagella\"]\n",
    "print(\" \".join(words))  # Joins the list of strings with a space separator"
   ]
  },
  {
   "cell_type": "markdown",
   "id": "dab54fbf",
   "metadata": {},
   "source": [
    "# Removing Specific Characters"
   ]
  },
  {
   "cell_type": "code",
   "execution_count": 41,
   "id": "a907c305",
   "metadata": {},
   "outputs": [
    {
     "name": "stdout",
     "output_type": "stream",
     "text": [
      "Hello Srija!\n"
     ]
    }
   ],
   "source": [
    "s = \"Hello, Srija!\"\n",
    "print(s.replace(\",\", \"\"))  # Removes commas from 's'"
   ]
  },
  {
   "cell_type": "markdown",
   "id": "3e128d3c",
   "metadata": {},
   "source": [
    "# Regular Expression Matching for 4-Letter Words"
   ]
  },
  {
   "cell_type": "code",
   "execution_count": 43,
   "id": "3e37f567",
   "metadata": {},
   "outputs": [
    {
     "name": "stdout",
     "output_type": "stream",
     "text": [
      "['This', 'with', 'some']\n"
     ]
    }
   ],
   "source": [
    "import re\n",
    "\n",
    "pattern = r'\\b\\w{4}\\b'  # Regular expression pattern to match 4-letter words\n",
    "text = \"This is a sample sentence with some words.\"\n",
    "\n",
    "matches = re.findall(pattern, text)  # Find all matches of the pattern in the text\n",
    "print(matches)\n"
   ]
  },
  {
   "cell_type": "markdown",
   "id": "f8daf2b1",
   "metadata": {},
   "source": [
    "# Using Regular Expressions to Match Specific Patterns and Extract Information"
   ]
  },
  {
   "cell_type": "code",
   "execution_count": 30,
   "id": "2357fac2",
   "metadata": {},
   "outputs": [
    {
     "name": "stdout",
     "output_type": "stream",
     "text": [
      "['brown']\n"
     ]
    }
   ],
   "source": [
    "import re\n",
    "\n",
    "# Sample text\n",
    "text = \"The quick brown fox jumps over the lazy dog.\"\n",
    "\n",
    "# Search for all words containing 'o' followed by any two characters\n",
    "pattern = r'\\b\\w*o\\w{2}\\b'\n",
    "\n",
    "# Find all matches of the pattern in the text\n",
    "matches = re.findall(pattern, text)\n",
    "\n",
    "# Print the matches\n",
    "print(matches)\n"
   ]
  },
  {
   "cell_type": "markdown",
   "id": "a87d2259",
   "metadata": {},
   "source": [
    "# Using Regular Expressions to Match Words Starting with 'a' or 'o' and Ending with 'e'"
   ]
  },
  {
   "cell_type": "code",
   "execution_count": 44,
   "id": "b07da316",
   "metadata": {},
   "outputs": [
    {
     "name": "stdout",
     "output_type": "stream",
     "text": [
      "Words starting with 'a' or 'o': ['apple', 'orange']\n",
      "Words ending with 'e': ['apple', 'orange', 'grape']\n"
     ]
    }
   ],
   "source": [
    "import re  # Using Regular Expressions to Replace Matches with Specific Text\n",
    "\n",
    "# Sample text\n",
    "text = \"apple banana orange grape\"\n",
    "\n",
    "# Match words starting with 'a' or 'o'\n",
    "matches_start = re.findall(r'\\b[a,o]\\w+', text)\n",
    "\n",
    "# Match words ending with 'e'\n",
    "matches_end = re.findall(r'\\b\\w+e\\b', text)\n",
    "\n",
    "print(\"Words starting with 'a' or 'o':\", matches_start)\n",
    "print(\"Words ending with 'e':\", matches_end)\n"
   ]
  },
  {
   "cell_type": "markdown",
   "id": "66dadd94",
   "metadata": {},
   "source": [
    "# Using Regular Expressions to Split Text Based on Commas"
   ]
  },
  {
   "cell_type": "code",
   "execution_count": 45,
   "id": "6d8b866f",
   "metadata": {},
   "outputs": [
    {
     "name": "stdout",
     "output_type": "stream",
     "text": [
      "Split text: ['apple', 'banana', 'orange', 'grape']\n"
     ]
    }
   ],
   "source": [
    "import re  # Using Regular Expressions to Replace Matches with Specific Text\n",
    "\n",
    "# Sample text\n",
    "text = \"apple,banana,orange,grape\"\n",
    "\n",
    "# Split text based on commas (ignoring any leading/trailing whitespace)\n",
    "split_text = re.split(r'\\s*,\\s*', text)\n",
    "\n",
    "print(\"Split text:\", split_text)"
   ]
  },
  {
   "cell_type": "markdown",
   "id": "8617f84c",
   "metadata": {},
   "source": [
    "# Using Regular Expressions to Replace Substrings in Text"
   ]
  },
  {
   "cell_type": "code",
   "execution_count": 46,
   "id": "9fe727b3",
   "metadata": {},
   "outputs": [
    {
     "name": "stdout",
     "output_type": "stream",
     "text": [
      "New text: I love oranges and apples.\n"
     ]
    }
   ],
   "source": [
    "import re  # Using Regular Expressions to Replace Matches with Specific Text\n",
    "\n",
    "# Sample text\n",
    "text = \"I love bananas and apples.\"\n",
    "\n",
    "# Replace 'bananas' with 'oranges'\n",
    "new_text = re.sub(r'bananas', 'oranges', text)\n",
    "\n",
    "print(\"New text:\", new_text)"
   ]
  }
 ],
 "metadata": {
  "kernelspec": {
   "display_name": "Python 3 (ipykernel)",
   "language": "python",
   "name": "python3"
  },
  "language_info": {
   "codemirror_mode": {
    "name": "ipython",
    "version": 3
   },
   "file_extension": ".py",
   "mimetype": "text/x-python",
   "name": "python",
   "nbconvert_exporter": "python",
   "pygments_lexer": "ipython3",
   "version": "3.11.5"
  }
 },
 "nbformat": 4,
 "nbformat_minor": 5
}

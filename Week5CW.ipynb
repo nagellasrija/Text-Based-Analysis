{
 "cells": [
  {
   "cell_type": "markdown",
   "id": "db021d0c",
   "metadata": {},
   "source": [
    "# Importing pandas library as pd for data manipulation"
   ]
  },
  {
   "cell_type": "code",
   "execution_count": 1,
   "id": "1dc22538",
   "metadata": {},
   "outputs": [],
   "source": [
    "import pandas as pd"
   ]
  },
  {
   "cell_type": "markdown",
   "id": "012a985a",
   "metadata": {},
   "source": [
    "# Reading Json file and displaying 10 rows"
   ]
  },
  {
   "cell_type": "code",
   "execution_count": 2,
   "id": "ae279ccc",
   "metadata": {},
   "outputs": [
    {
     "data": {
      "text/html": [
       "<div>\n",
       "<style scoped>\n",
       "    .dataframe tbody tr th:only-of-type {\n",
       "        vertical-align: middle;\n",
       "    }\n",
       "\n",
       "    .dataframe tbody tr th {\n",
       "        vertical-align: top;\n",
       "    }\n",
       "\n",
       "    .dataframe thead th {\n",
       "        text-align: right;\n",
       "    }\n",
       "</style>\n",
       "<table border=\"1\" class=\"dataframe\">\n",
       "  <thead>\n",
       "    <tr style=\"text-align: right;\">\n",
       "      <th></th>\n",
       "      <th>overall</th>\n",
       "      <th>verified</th>\n",
       "      <th>reviewTime</th>\n",
       "      <th>reviewerID</th>\n",
       "      <th>asin</th>\n",
       "      <th>style</th>\n",
       "      <th>reviewerName</th>\n",
       "      <th>reviewText</th>\n",
       "      <th>summary</th>\n",
       "      <th>unixReviewTime</th>\n",
       "      <th>vote</th>\n",
       "      <th>image</th>\n",
       "    </tr>\n",
       "  </thead>\n",
       "  <tbody>\n",
       "    <tr>\n",
       "      <th>3654</th>\n",
       "      <td>5</td>\n",
       "      <td>True</td>\n",
       "      <td>06 16, 2017</td>\n",
       "      <td>AEKXQV036EE34</td>\n",
       "      <td>B0001DUD9O</td>\n",
       "      <td>NaN</td>\n",
       "      <td>Amazon Customer</td>\n",
       "      <td>Perfect. Discontinued color my mother in law n...</td>\n",
       "      <td>Five Stars</td>\n",
       "      <td>1497571200</td>\n",
       "      <td>NaN</td>\n",
       "      <td>NaN</td>\n",
       "    </tr>\n",
       "    <tr>\n",
       "      <th>18168</th>\n",
       "      <td>5</td>\n",
       "      <td>False</td>\n",
       "      <td>10 15, 2014</td>\n",
       "      <td>A2IBF31N8P9FPJ</td>\n",
       "      <td>B000BVN18Q</td>\n",
       "      <td>NaN</td>\n",
       "      <td>LAgrammie</td>\n",
       "      <td>Polishing cloths could not get any better.  Lo...</td>\n",
       "      <td>Perfect</td>\n",
       "      <td>1413331200</td>\n",
       "      <td>NaN</td>\n",
       "      <td>NaN</td>\n",
       "    </tr>\n",
       "    <tr>\n",
       "      <th>451370</th>\n",
       "      <td>4</td>\n",
       "      <td>True</td>\n",
       "      <td>06 30, 2017</td>\n",
       "      <td>A3DMIDOA8CMMQ5</td>\n",
       "      <td>B007H8JUHM</td>\n",
       "      <td>{'Size:': ' 18 Inch x 10 Yard', 'Color:': ' Pi...</td>\n",
       "      <td>Connie Thomas</td>\n",
       "      <td>This tulle is pretty but I swear they basicall...</td>\n",
       "      <td>Very pretty, but MESSY GLITTER EVERYWHERE!</td>\n",
       "      <td>1498780800</td>\n",
       "      <td>NaN</td>\n",
       "      <td>[https://images-na.ssl-images-amazon.com/image...</td>\n",
       "    </tr>\n",
       "    <tr>\n",
       "      <th>485247</th>\n",
       "      <td>4</td>\n",
       "      <td>True</td>\n",
       "      <td>02 21, 2016</td>\n",
       "      <td>AH09PC111TUSE</td>\n",
       "      <td>B00YJB42KK</td>\n",
       "      <td>NaN</td>\n",
       "      <td>K. Sanders</td>\n",
       "      <td>There is nothing wrong with this fabric except...</td>\n",
       "      <td>a pretty print!</td>\n",
       "      <td>1456012800</td>\n",
       "      <td>NaN</td>\n",
       "      <td>NaN</td>\n",
       "    </tr>\n",
       "    <tr>\n",
       "      <th>185810</th>\n",
       "      <td>5</td>\n",
       "      <td>True</td>\n",
       "      <td>02 12, 2016</td>\n",
       "      <td>A2ODHPNLZ3E0W3</td>\n",
       "      <td>B002PZR1MS</td>\n",
       "      <td>{'Size:': ' No. 9'}</td>\n",
       "      <td>Lou Pearson Jr.</td>\n",
       "      <td>Great Deal. good seller, much appreciated.</td>\n",
       "      <td>Five Stars</td>\n",
       "      <td>1455235200</td>\n",
       "      <td>NaN</td>\n",
       "      <td>NaN</td>\n",
       "    </tr>\n",
       "    <tr>\n",
       "      <th>68888</th>\n",
       "      <td>5</td>\n",
       "      <td>True</td>\n",
       "      <td>10 2, 2014</td>\n",
       "      <td>AOF50DGMK791Y</td>\n",
       "      <td>B00134C4HO</td>\n",
       "      <td>NaN</td>\n",
       "      <td>Mary k.</td>\n",
       "      <td>this was something that I didn't know I needed...</td>\n",
       "      <td>notcher your everyday notch</td>\n",
       "      <td>1412208000</td>\n",
       "      <td>NaN</td>\n",
       "      <td>NaN</td>\n",
       "    </tr>\n",
       "    <tr>\n",
       "      <th>493661</th>\n",
       "      <td>5</td>\n",
       "      <td>True</td>\n",
       "      <td>06 29, 2017</td>\n",
       "      <td>A1WP02LSP6FS2E</td>\n",
       "      <td>B01FLQ0KEI</td>\n",
       "      <td>NaN</td>\n",
       "      <td>LoveCraftShopping</td>\n",
       "      <td>Excellent and beautiful!!! This is the perfect...</td>\n",
       "      <td>Beautiful</td>\n",
       "      <td>1498694400</td>\n",
       "      <td>NaN</td>\n",
       "      <td>NaN</td>\n",
       "    </tr>\n",
       "    <tr>\n",
       "      <th>397603</th>\n",
       "      <td>2</td>\n",
       "      <td>True</td>\n",
       "      <td>10 4, 2016</td>\n",
       "      <td>A2M2P9SDVIS2BV</td>\n",
       "      <td>B0197FGETY</td>\n",
       "      <td>{'Color:': ' Tropicals'}</td>\n",
       "      <td>Nancy S. Cunningham</td>\n",
       "      <td>I am a beginner watercolorist.  The colors see...</td>\n",
       "      <td>beware the sticker and be gentle with the fold...</td>\n",
       "      <td>1475539200</td>\n",
       "      <td>3</td>\n",
       "      <td>NaN</td>\n",
       "    </tr>\n",
       "    <tr>\n",
       "      <th>257468</th>\n",
       "      <td>4</td>\n",
       "      <td>True</td>\n",
       "      <td>12 3, 2017</td>\n",
       "      <td>AKCNHJDTOFA4N</td>\n",
       "      <td>B007PBHZK0</td>\n",
       "      <td>{'Size:': ' Medium'}</td>\n",
       "      <td>LILI</td>\n",
       "      <td>This fits my hip 44 and chest 39. The waist is...</td>\n",
       "      <td>Fits hip size 44/46</td>\n",
       "      <td>1512259200</td>\n",
       "      <td>2</td>\n",
       "      <td>[https://images-na.ssl-images-amazon.com/image...</td>\n",
       "    </tr>\n",
       "    <tr>\n",
       "      <th>35305</th>\n",
       "      <td>1</td>\n",
       "      <td>True</td>\n",
       "      <td>08 8, 2015</td>\n",
       "      <td>A24U332RM0HXEQ</td>\n",
       "      <td>B000S15IVM</td>\n",
       "      <td>{'Size:': ' 2 Bottle Set Metallics', 'Color:':...</td>\n",
       "      <td>nwsunsets</td>\n",
       "      <td>shook for an hour and still clumps in botton.....</td>\n",
       "      <td>shook for an hour and still clumps in botton. ...</td>\n",
       "      <td>1438992000</td>\n",
       "      <td>2</td>\n",
       "      <td>NaN</td>\n",
       "    </tr>\n",
       "  </tbody>\n",
       "</table>\n",
       "</div>"
      ],
      "text/plain": [
       "        overall  verified   reviewTime      reviewerID        asin  \\\n",
       "3654          5      True  06 16, 2017   AEKXQV036EE34  B0001DUD9O   \n",
       "18168         5     False  10 15, 2014  A2IBF31N8P9FPJ  B000BVN18Q   \n",
       "451370        4      True  06 30, 2017  A3DMIDOA8CMMQ5  B007H8JUHM   \n",
       "485247        4      True  02 21, 2016   AH09PC111TUSE  B00YJB42KK   \n",
       "185810        5      True  02 12, 2016  A2ODHPNLZ3E0W3  B002PZR1MS   \n",
       "68888         5      True   10 2, 2014   AOF50DGMK791Y  B00134C4HO   \n",
       "493661        5      True  06 29, 2017  A1WP02LSP6FS2E  B01FLQ0KEI   \n",
       "397603        2      True   10 4, 2016  A2M2P9SDVIS2BV  B0197FGETY   \n",
       "257468        4      True   12 3, 2017   AKCNHJDTOFA4N  B007PBHZK0   \n",
       "35305         1      True   08 8, 2015  A24U332RM0HXEQ  B000S15IVM   \n",
       "\n",
       "                                                    style  \\\n",
       "3654                                                  NaN   \n",
       "18168                                                 NaN   \n",
       "451370  {'Size:': ' 18 Inch x 10 Yard', 'Color:': ' Pi...   \n",
       "485247                                                NaN   \n",
       "185810                                {'Size:': ' No. 9'}   \n",
       "68888                                                 NaN   \n",
       "493661                                                NaN   \n",
       "397603                           {'Color:': ' Tropicals'}   \n",
       "257468                               {'Size:': ' Medium'}   \n",
       "35305   {'Size:': ' 2 Bottle Set Metallics', 'Color:':...   \n",
       "\n",
       "               reviewerName  \\\n",
       "3654        Amazon Customer   \n",
       "18168             LAgrammie   \n",
       "451370        Connie Thomas   \n",
       "485247           K. Sanders   \n",
       "185810      Lou Pearson Jr.   \n",
       "68888               Mary k.   \n",
       "493661    LoveCraftShopping   \n",
       "397603  Nancy S. Cunningham   \n",
       "257468                 LILI   \n",
       "35305             nwsunsets   \n",
       "\n",
       "                                               reviewText  \\\n",
       "3654    Perfect. Discontinued color my mother in law n...   \n",
       "18168   Polishing cloths could not get any better.  Lo...   \n",
       "451370  This tulle is pretty but I swear they basicall...   \n",
       "485247  There is nothing wrong with this fabric except...   \n",
       "185810         Great Deal. good seller, much appreciated.   \n",
       "68888   this was something that I didn't know I needed...   \n",
       "493661  Excellent and beautiful!!! This is the perfect...   \n",
       "397603  I am a beginner watercolorist.  The colors see...   \n",
       "257468  This fits my hip 44 and chest 39. The waist is...   \n",
       "35305   shook for an hour and still clumps in botton.....   \n",
       "\n",
       "                                                  summary  unixReviewTime  \\\n",
       "3654                                           Five Stars      1497571200   \n",
       "18168                                             Perfect      1413331200   \n",
       "451370         Very pretty, but MESSY GLITTER EVERYWHERE!      1498780800   \n",
       "485247                                    a pretty print!      1456012800   \n",
       "185810                                         Five Stars      1455235200   \n",
       "68888                         notcher your everyday notch      1412208000   \n",
       "493661                                          Beautiful      1498694400   \n",
       "397603  beware the sticker and be gentle with the fold...      1475539200   \n",
       "257468                                Fits hip size 44/46      1512259200   \n",
       "35305   shook for an hour and still clumps in botton. ...      1438992000   \n",
       "\n",
       "       vote                                              image  \n",
       "3654    NaN                                                NaN  \n",
       "18168   NaN                                                NaN  \n",
       "451370  NaN  [https://images-na.ssl-images-amazon.com/image...  \n",
       "485247  NaN                                                NaN  \n",
       "185810  NaN                                                NaN  \n",
       "68888   NaN                                                NaN  \n",
       "493661  NaN                                                NaN  \n",
       "397603    3                                                NaN  \n",
       "257468    2  [https://images-na.ssl-images-amazon.com/image...  \n",
       "35305     2                                                NaN  "
      ]
     },
     "execution_count": 2,
     "metadata": {},
     "output_type": "execute_result"
    }
   ],
   "source": [
    "df = pd.read_json( '/Users/srijanagella/Downloads/Arts_Crafts_and_Sewing_5.json',lines=True) # Reading JSON Data into a Pandas DataFrame\n",
    "df.sample(10)# Displaying a sample of 10 rows from the DataFrame"
   ]
  },
  {
   "cell_type": "markdown",
   "id": "43ce04a3",
   "metadata": {},
   "source": [
    "# Importing Libraries and Downloading Data for Sentiment Analysis"
   ]
  },
  {
   "cell_type": "code",
   "execution_count": 3,
   "id": "948b46a1",
   "metadata": {},
   "outputs": [],
   "source": [
    "from sklearn import preprocessing  # Importing preprocessing module from scikit-learn library"
   ]
  },
  {
   "cell_type": "code",
   "execution_count": 4,
   "id": "9f739deb",
   "metadata": {},
   "outputs": [],
   "source": [
    "import nltk  # Importing nltk library for natural language processing tasks"
   ]
  },
  {
   "cell_type": "code",
   "execution_count": 5,
   "id": "d7a4d33a",
   "metadata": {},
   "outputs": [
    {
     "name": "stderr",
     "output_type": "stream",
     "text": [
      "[nltk_data] Downloading package opinion_lexicon to\n",
      "[nltk_data]     /Users/srijanagella/nltk_data...\n",
      "[nltk_data]   Package opinion_lexicon is already up-to-date!\n"
     ]
    }
   ],
   "source": [
    "nltk.download('opinion_lexicon')  # Downloading the opinion lexicon dataset\n",
    "from nltk.corpus import opinion_lexicon  # Importing opinion_lexicon from nltk.corpus\n",
    "from nltk.tokenize import word_tokenize  # Importing word_tokenize from nltk.tokenize"
   ]
  },
  {
   "cell_type": "markdown",
   "id": "68935423",
   "metadata": {},
   "source": [
    "# Exploring Opinion Lexicon and Creating a Dictionary for Sentiment Analysis"
   ]
  },
  {
   "cell_type": "code",
   "execution_count": 6,
   "id": "7935ddde",
   "metadata": {},
   "outputs": [
    {
     "name": "stdout",
     "output_type": "stream",
     "text": [
      "Total number of words in opinion lexicon 6789\n"
     ]
    }
   ],
   "source": [
    "# Printing the Total Number of Words in the Opinion Lexicon\n",
    "print('Total number of words in opinion lexicon', len(opinion_lexicon.words()))"
   ]
  },
  {
   "cell_type": "code",
   "execution_count": 7,
   "id": "820a5f4e",
   "metadata": {},
   "outputs": [
    {
     "name": "stdout",
     "output_type": "stream",
     "text": [
      "Examples of positive words in opinion lexicon ['a+', 'abound', 'abounds', 'abundance', 'abundant', 'accessable', 'accessible', 'acclaim', 'acclaimed', 'acclamation']\n"
     ]
    }
   ],
   "source": [
    "# Printing Examples of Positive Words in Opinion Lexicon\n",
    "print('Examples of positive words in opinion lexicon',opinion_lexicon.positive()[:10])"
   ]
  },
  {
   "cell_type": "code",
   "execution_count": 8,
   "id": "98c52191",
   "metadata": {},
   "outputs": [
    {
     "name": "stdout",
     "output_type": "stream",
     "text": [
      "Examples of negative words in opinion lexicon ['2-faced', '2-faces', 'abnormal', 'abolish', 'abominable', 'abominably', 'abominate', 'abomination', 'abort', 'aborted']\n"
     ]
    }
   ],
   "source": [
    "# Printing Examples of Negative Words in Opinion Lexicon\n",
    "print('Examples of negative words in opinion lexicon',opinion_lexicon.negative()[:10])"
   ]
  },
  {
   "cell_type": "code",
   "execution_count": 9,
   "id": "4cf82051",
   "metadata": {},
   "outputs": [
    {
     "name": "stderr",
     "output_type": "stream",
     "text": [
      "[nltk_data] Downloading package punkt to\n",
      "[nltk_data]     /Users/srijanagella/nltk_data...\n",
      "[nltk_data]   Package punkt is already up-to-date!\n"
     ]
    },
    {
     "data": {
      "text/plain": [
       "True"
      ]
     },
     "execution_count": 9,
     "metadata": {},
     "output_type": "execute_result"
    }
   ],
   "source": [
    "# Let's create a dictionary which we can use for scoring our review text\n",
    "nltk.download('punkt')"
   ]
  },
  {
   "cell_type": "markdown",
   "id": "e85cafeb",
   "metadata": {},
   "source": [
    "# Renaming Columns, Defining Scores, and Initializing Dictionary"
   ]
  },
  {
   "cell_type": "code",
   "execution_count": 10,
   "id": "7e9034ba",
   "metadata": {},
   "outputs": [],
   "source": [
    "# Renaming Columns in DataFrame\n",
    "df.rename(columns={\"reviewText\": \"text\"}, inplace=True)\n",
    "# Defining Positive and Negative Scores\n",
    "pos_score = 1\n",
    "neg_score = -1\n",
    "# Initializing an Empty Dictionary to Store Words and Their Scores\n",
    "word_dict = {}"
   ]
  },
  {
   "cell_type": "markdown",
   "id": "43423103",
   "metadata": {},
   "source": [
    "# Adding Positive and Negative Words to the Dictionary"
   ]
  },
  {
   "cell_type": "code",
   "execution_count": 11,
   "id": "60091f50",
   "metadata": {},
   "outputs": [],
   "source": [
    "# Adding the positive words to the dictionary\n",
    "for word in opinion_lexicon.positive():\n",
    "    word_dict[word] = pos_score"
   ]
  },
  {
   "cell_type": "code",
   "execution_count": 12,
   "id": "74de205a",
   "metadata": {},
   "outputs": [],
   "source": [
    "# Adding the negative words to the dictionary\n",
    "for word in opinion_lexicon.negative():\n",
    "    word_dict[word] = neg_score"
   ]
  },
  {
   "cell_type": "markdown",
   "id": "43ba142a",
   "metadata": {},
   "source": [
    "# Function to Calculate Sentiment Score using Bing Liu Lexicon"
   ]
  },
  {
   "cell_type": "code",
   "execution_count": 13,
   "id": "1b236ac1",
   "metadata": {},
   "outputs": [],
   "source": [
    "def bing_liu_score(text):\n",
    "    sentiment_score = 0  # Initializing sentiment score\n",
    "    bag_of_words = word_tokenize(text.lower())  # Tokenizing the text into words and converting to lowercase\n",
    "    for word in bag_of_words:\n",
    "        if word in word_dict:    # Checking if the word is in the word_dict\n",
    "            sentiment_score += word_dict[word]   # Adding the score of the word to the sentiment score\n",
    "    return sentiment_score   # Returning the calculated sentiment score"
   ]
  },
  {
   "cell_type": "markdown",
   "id": "18f16a73",
   "metadata": {},
   "source": [
    "# Sentiment Analysis Using Bing Liu Lexicon"
   ]
  },
  {
   "cell_type": "code",
   "execution_count": 14,
   "id": "7a6d3d18",
   "metadata": {},
   "outputs": [],
   "source": [
    "# Filling Missing Values in 'text' Column with 'no review'\n",
    "df['text'].fillna('no review', inplace=True)\n",
    "# Calculating Bing Liu Score for Each Text and Adding a New Column 'Bing_Liu_Score'\n",
    "df['Bing_Liu_Score'] = df['text'].apply(bing_liu_score)"
   ]
  },
  {
   "cell_type": "code",
   "execution_count": 15,
   "id": "288831be",
   "metadata": {},
   "outputs": [
    {
     "data": {
      "text/html": [
       "<div>\n",
       "<style scoped>\n",
       "    .dataframe tbody tr th:only-of-type {\n",
       "        vertical-align: middle;\n",
       "    }\n",
       "\n",
       "    .dataframe tbody tr th {\n",
       "        vertical-align: top;\n",
       "    }\n",
       "\n",
       "    .dataframe thead th {\n",
       "        text-align: right;\n",
       "    }\n",
       "</style>\n",
       "<table border=\"1\" class=\"dataframe\">\n",
       "  <thead>\n",
       "    <tr style=\"text-align: right;\">\n",
       "      <th></th>\n",
       "      <th>overall</th>\n",
       "      <th>text</th>\n",
       "      <th>Bing_Liu_Score</th>\n",
       "    </tr>\n",
       "  </thead>\n",
       "  <tbody>\n",
       "    <tr>\n",
       "      <th>0</th>\n",
       "      <td>4</td>\n",
       "      <td>Contains some interesting stitches.</td>\n",
       "      <td>1</td>\n",
       "    </tr>\n",
       "    <tr>\n",
       "      <th>1</th>\n",
       "      <td>5</td>\n",
       "      <td>I'm a fairly experienced knitter of the one-co...</td>\n",
       "      <td>22</td>\n",
       "    </tr>\n",
       "    <tr>\n",
       "      <th>2</th>\n",
       "      <td>4</td>\n",
       "      <td>Great book but the index is terrible. Had to w...</td>\n",
       "      <td>0</td>\n",
       "    </tr>\n",
       "    <tr>\n",
       "      <th>3</th>\n",
       "      <td>5</td>\n",
       "      <td>I purchased the Kindle edition which is incred...</td>\n",
       "      <td>4</td>\n",
       "    </tr>\n",
       "    <tr>\n",
       "      <th>4</th>\n",
       "      <td>5</td>\n",
       "      <td>Very well laid out and very easy to read.\\n\\nT...</td>\n",
       "      <td>5</td>\n",
       "    </tr>\n",
       "    <tr>\n",
       "      <th>5</th>\n",
       "      <td>5</td>\n",
       "      <td>Beginning her career as a freelance knitter, M...</td>\n",
       "      <td>15</td>\n",
       "    </tr>\n",
       "    <tr>\n",
       "      <th>6</th>\n",
       "      <td>5</td>\n",
       "      <td>This is a terrific stitch handbook (and I have...</td>\n",
       "      <td>9</td>\n",
       "    </tr>\n",
       "    <tr>\n",
       "      <th>7</th>\n",
       "      <td>4</td>\n",
       "      <td>The book needs to be coil bound. The content i...</td>\n",
       "      <td>1</td>\n",
       "    </tr>\n",
       "    <tr>\n",
       "      <th>8</th>\n",
       "      <td>5</td>\n",
       "      <td>I really am enjoying this book! I like the siz...</td>\n",
       "      <td>12</td>\n",
       "    </tr>\n",
       "    <tr>\n",
       "      <th>9</th>\n",
       "      <td>5</td>\n",
       "      <td>Just received this book and looked over it cov...</td>\n",
       "      <td>6</td>\n",
       "    </tr>\n",
       "  </tbody>\n",
       "</table>\n",
       "</div>"
      ],
      "text/plain": [
       "   overall                                               text  Bing_Liu_Score\n",
       "0        4                Contains some interesting stitches.               1\n",
       "1        5  I'm a fairly experienced knitter of the one-co...              22\n",
       "2        4  Great book but the index is terrible. Had to w...               0\n",
       "3        5  I purchased the Kindle edition which is incred...               4\n",
       "4        5  Very well laid out and very easy to read.\\n\\nT...               5\n",
       "5        5  Beginning her career as a freelance knitter, M...              15\n",
       "6        5  This is a terrific stitch handbook (and I have...               9\n",
       "7        4  The book needs to be coil bound. The content i...               1\n",
       "8        5  I really am enjoying this book! I like the siz...              12\n",
       "9        5  Just received this book and looked over it cov...               6"
      ]
     },
     "execution_count": 15,
     "metadata": {},
     "output_type": "execute_result"
    }
   ],
   "source": [
    "df[['overall',\"text\", 'Bing_Liu_Score']].head(10)   # Displaying Columns 'overall', 'text', and 'Bing_Liu_Score' for the First 10 Rows"
   ]
  },
  {
   "cell_type": "markdown",
   "id": "939bb0de",
   "metadata": {},
   "source": [
    "# Grouping DataFrame by 'overall' Rating and Calculating Mean Bing Liu Score"
   ]
  },
  {
   "cell_type": "code",
   "execution_count": 16,
   "id": "060587ea",
   "metadata": {},
   "outputs": [
    {
     "data": {
      "text/html": [
       "<div>\n",
       "<style scoped>\n",
       "    .dataframe tbody tr th:only-of-type {\n",
       "        vertical-align: middle;\n",
       "    }\n",
       "\n",
       "    .dataframe tbody tr th {\n",
       "        vertical-align: top;\n",
       "    }\n",
       "\n",
       "    .dataframe thead th {\n",
       "        text-align: right;\n",
       "    }\n",
       "</style>\n",
       "<table border=\"1\" class=\"dataframe\">\n",
       "  <thead>\n",
       "    <tr style=\"text-align: right;\">\n",
       "      <th></th>\n",
       "      <th>Bing_Liu_Score</th>\n",
       "    </tr>\n",
       "    <tr>\n",
       "      <th>overall</th>\n",
       "      <th></th>\n",
       "    </tr>\n",
       "  </thead>\n",
       "  <tbody>\n",
       "    <tr>\n",
       "      <th>1</th>\n",
       "      <td>-0.255049</td>\n",
       "    </tr>\n",
       "    <tr>\n",
       "      <th>2</th>\n",
       "      <td>0.566098</td>\n",
       "    </tr>\n",
       "    <tr>\n",
       "      <th>3</th>\n",
       "      <td>1.158796</td>\n",
       "    </tr>\n",
       "    <tr>\n",
       "      <th>4</th>\n",
       "      <td>2.028146</td>\n",
       "    </tr>\n",
       "    <tr>\n",
       "      <th>5</th>\n",
       "      <td>2.130005</td>\n",
       "    </tr>\n",
       "  </tbody>\n",
       "</table>\n",
       "</div>"
      ],
      "text/plain": [
       "         Bing_Liu_Score\n",
       "overall                \n",
       "1             -0.255049\n",
       "2              0.566098\n",
       "3              1.158796\n",
       "4              2.028146\n",
       "5              2.130005"
      ]
     },
     "execution_count": 16,
     "metadata": {},
     "output_type": "execute_result"
    }
   ],
   "source": [
    "df.groupby('overall').agg({'Bing_Liu_Score':'mean'})  # Grouping DataFrame by 'overall' Rating and Calculating Mean Bing Liu Score"
   ]
  }
 ],
 "metadata": {
  "kernelspec": {
   "display_name": "Python 3 (ipykernel)",
   "language": "python",
   "name": "python3"
  },
  "language_info": {
   "codemirror_mode": {
    "name": "ipython",
    "version": 3
   },
   "file_extension": ".py",
   "mimetype": "text/x-python",
   "name": "python",
   "nbconvert_exporter": "python",
   "pygments_lexer": "ipython3",
   "version": "3.11.5"
  }
 },
 "nbformat": 4,
 "nbformat_minor": 5
}
